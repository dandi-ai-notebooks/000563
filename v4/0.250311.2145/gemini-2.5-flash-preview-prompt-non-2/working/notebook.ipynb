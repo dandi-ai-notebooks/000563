{
 "cells": [
  {
   "cell_type": "markdown",
   "id": "b3b00e26",
   "metadata": {},
   "source": [
    "# Exploring Dandiset 000563: Allen Institute Openscope - Barcoding\n",
    "\n",
    "This notebook explores Dandiset 000563, which contains extracellular electrophysiology and optogenetic data related to responses of visual neurons to white noise flicker visual stimuli.\n",
    "\n",
    "**Note:** This notebook was AI-generated and has not been fully verified. Users should exercise caution when interpreting the code or results and independently verify any critical findings."
   ]
  },
  {
   "cell_type": "markdown",
   "id": "a7b0f34e",
   "metadata": {},
   "source": [
    "## Dandiset Overview\n",
    "\n",
    "This Dandiset, \"Allen Institute Openscope - Barcoding\", contains neurophysiology data collected to study the temporal precision of visual neuron responses to white noise flicker stimuli. The experiment used the OpenScope Neuropixels passive viewing protocol. The researchers observed \"barcode\"-like patterns in neural responses to repeated white noise sequences and hypothesized that these could be used as identifiers for discrete cell types.\n",
    "\n",
    "You can find more information about this Dandiset on the DANDI archive: [https://dandiarchive.org/dandiset/000563/0.250311.2145](https://dandiarchive.org/dandiset/000563/0.250311.2145)"
   ]
  },
  {
   "cell_type": "markdown",
   "id": "e453e168",
   "metadata": {},
   "source": [
    "## Notebook Contents\n",
    "\n",
    "This notebook will cover:\n",
    "\n",
    "1. Loading the Dandiset and listing its assets.\n",
    "2. Examining a selected NWB file and its structure.\n",
    "3. Loading and visualizing Local Field Potential (LFP) data from the NWB file.\n",
    "4. Summarizing key findings."
   ]
  },
  {
   "cell_type": "markdown",
   "id": "4e0fc0c4",
   "metadata": {},
   "source": [
    "## Required Packages\n",
    "\n",
    "The following packages are required to run this notebook:\n",
    "\n",
    "* `dandi`\n",
    "* `pynwb`\n",
    "* `h5py`\n",
    "* `remfile`\n",
    "* `numpy`\n",
    "* `matplotlib`\n",
    "* `seaborn` (for styling)"
   ]
  },
  {
   "cell_type": "code",
   "execution_count": 1,
   "id": "6bc425c0",
   "metadata": {
    "execution": {
     "iopub.execute_input": "2025-05-09T19:54:09.698498Z",
     "iopub.status.busy": "2025-05-09T19:54:09.698317Z",
     "iopub.status.idle": "2025-05-09T19:54:11.079532Z",
     "shell.execute_reply": "2025-05-09T19:54:11.078924Z"
    }
   },
   "outputs": [],
   "source": [
    "from itertools import islice\n",
    "from dandi.dandiapi import DandiAPIClient\n",
    "import pynwb\n",
    "import h5py\n",
    "import remfile\n",
    "import numpy as np\n",
    "import matplotlib.pyplot as plt\n",
    "import seaborn as sns\n",
    "\n",
    "sns.set_theme()"
   ]
  },
  {
   "cell_type": "markdown",
   "id": "e3fcc371",
   "metadata": {},
   "source": [
    "## Loading the Dandiset and Assets\n",
    "\n",
    "We will connect to the DANDI archive and retrieve the Dandiset information and list the available assets."
   ]
  },
  {
   "cell_type": "code",
   "execution_count": 2,
   "id": "cebda698",
   "metadata": {
    "execution": {
     "iopub.execute_input": "2025-05-09T19:54:11.081870Z",
     "iopub.status.busy": "2025-05-09T19:54:11.081139Z",
     "iopub.status.idle": "2025-05-09T19:54:11.350866Z",
     "shell.execute_reply": "2025-05-09T19:54:11.350249Z"
    }
   },
   "outputs": [
    {
     "name": "stdout",
     "output_type": "stream",
     "text": [
      "Dandiset name: Allen Institute Openscope - Barcoding\n",
      "Dandiset URL: https://dandiarchive.org/dandiset/000563/0.250311.2145\n",
      "\n",
      "First 5 assets:\n",
      "- sub-699241/sub-699241_ses-1318772854_probe-1_ecephys.nwb (ID: 55148cf3-9d15-4d05-a190-4a73e007e48d)\n",
      "- sub-699241/sub-699241_ses-1318772854_probe-3_ecephys.nwb (ID: 1b6325a9-1fc2-4fed-999c-d7c3aeb7a7a1)\n",
      "- sub-699241/sub-699241_ses-1318772854_probe-4_ecephys.nwb (ID: 6e4d0047-ca6b-4d29-b150-bc9e2c445646)\n",
      "- sub-699241/sub-699241_ses-1318772854_probe-0_ecephys.nwb (ID: 54cef618-72de-4c69-b441-8bd5e26049c5)\n",
      "- sub-699241/sub-699241_ses-1318772854_ogen.nwb (ID: c3bbf094-904e-43b7-83d5-be5a8bf3826f)\n"
     ]
    }
   ],
   "source": [
    "# Connect to DANDI archive\n",
    "client = DandiAPIClient()\n",
    "dandiset = client.get_dandiset(\"000563\", \"0.250311.2145\")\n",
    "\n",
    "# Print basic information about the Dandiset\n",
    "metadata = dandiset.get_raw_metadata()\n",
    "print(f\"Dandiset name: {metadata['name']}\")\n",
    "print(f\"Dandiset URL: {metadata['url']}\")\n",
    "\n",
    "# List some assets in the Dandiset\n",
    "assets = list(dandiset.get_assets()) # Convert to list to easily access elements later\n",
    "print(\"\\nFirst 5 assets:\")\n",
    "for asset in islice(assets, 5):\n",
    "    print(f\"- {asset.path} (ID: {asset.identifier})\")"
   ]
  },
  {
   "cell_type": "markdown",
   "id": "8831937d",
   "metadata": {},
   "source": [
    "## Examining an NWB File\n",
    "\n",
    "We will now examine one of the NWB files from the Dandiset to understand its structure and contents. We will focus on the file: `sub-681446/sub-681446_ses-1290510496_probe-0_ecephys.nwb`."
   ]
  },
  {
   "cell_type": "code",
   "execution_count": 3,
   "id": "2108be0a",
   "metadata": {
    "execution": {
     "iopub.execute_input": "2025-05-09T19:54:11.352678Z",
     "iopub.status.busy": "2025-05-09T19:54:11.352505Z",
     "iopub.status.idle": "2025-05-09T19:54:12.727683Z",
     "shell.execute_reply": "2025-05-09T19:54:12.727045Z"
    },
    "lines_to_next_cell": 2
   },
   "outputs": [
    {
     "name": "stdout",
     "output_type": "stream",
     "text": [
      "Loading NWB file: sub-681446/sub-681446_ses-1290510496_probe-0_ecephys.nwb\n",
      "Asset ID: 1f158fe0-f8ef-495e-b031-da25316a335c\n",
      "Download URL: https://api.dandiarchive.org/api/assets/1f158fe0-f8ef-495e-b031-da25316a335c/download/\n"
     ]
    },
    {
     "name": "stderr",
     "output_type": "stream",
     "text": [
      "/home/magland/miniconda3/envs/dev/lib/python3.12/site-packages/hdmf/spec/namespace.py:535: UserWarning: Ignoring cached namespace 'hdmf-common' version 1.6.0 because version 1.8.0 is already loaded.\n",
      "  warn(\"Ignoring cached namespace '%s' version %s because version %s is already loaded.\"\n",
      "/home/magland/miniconda3/envs/dev/lib/python3.12/site-packages/hdmf/spec/namespace.py:535: UserWarning: Ignoring cached namespace 'core' version 2.6.0-alpha because version 2.7.0 is already loaded.\n",
      "  warn(\"Ignoring cached namespace '%s' version %s because version %s is already loaded.\"\n",
      "/home/magland/miniconda3/envs/dev/lib/python3.12/site-packages/hdmf/spec/namespace.py:535: UserWarning: Ignoring cached namespace 'hdmf-experimental' version 0.3.0 because version 0.5.0 is already loaded.\n",
      "  warn(\"Ignoring cached namespace '%s' version %s because version %s is already loaded.\"\n"
     ]
    },
    {
     "name": "stdout",
     "output_type": "stream",
     "text": [
      "\n",
      "Session Description: LFP data and associated info for one probe\n",
      "Identifier: 0\n",
      "Session Start Time: 2023-08-16 00:00:00-07:00\n"
     ]
    }
   ],
   "source": [
    "# Select the NWB file\n",
    "nwb_file_path = \"sub-681446/sub-681446_ses-1290510496_probe-0_ecephys.nwb\"\n",
    "nwb_asset = [asset for asset in assets if asset.path == nwb_file_path][0]\n",
    "nwb_asset_id = nwb_asset.identifier\n",
    "nwb_file_url = f\"https://api.dandiarchive.org/api/assets/{nwb_asset_id}/download/\"\n",
    "\n",
    "print(f\"Loading NWB file: {nwb_file_path}\")\n",
    "print(f\"Asset ID: {nwb_asset_id}\")\n",
    "print(f\"Download URL: {nwb_file_url}\")\n",
    "\n",
    "# Load the NWB file\n",
    "remote_file = remfile.File(nwb_file_url)\n",
    "h5_file = h5py.File(remote_file)\n",
    "io = pynwb.NWBHDF5IO(file=h5_file)\n",
    "nwb = io.read()\n",
    "\n",
    "# Print some basic NWB file metadata\n",
    "print(f\"\\nSession Description: {nwb.session_description}\")\n",
    "print(f\"Identifier: {nwb.identifier}\")\n",
    "print(f\"Session Start Time: {nwb.session_start_time}\")"
   ]
  },
  {
   "cell_type": "markdown",
   "id": "ec591b02",
   "metadata": {},
   "source": [
    "### NWB File Structure Summary\n",
    "\n",
    "The chosen NWB file (`sub-681446/sub-681446_ses-1290510496_probe-0_ecephys.nwb`) appears to contain Local Field Potential (LFP) data and associated metadata from one electrode probe. Based on the `nwb-file-info` output, here's a summary of key components:\n",
    "\n",
    "```\n",
    "NWBFile\n",
    "├── session_description (str): LFP data and associated info for one probe\n",
    "├── identifier (str): 0\n",
    "├── session_start_time (datetime)\n",
    "├── timestamps_reference_time (datetime)\n",
    "├── file_create_date (list)\n",
    "├── acquisition (LabelledDict)\n",
    "│   └── probe_0_lfp (LFP)\n",
    "│       └── electrical_series (LabelledDict)\n",
    "│           └── probe_0_lfp_data (ElectricalSeries)\n",
    "│               ├── resolution (float64)\n",
    "│               ├── comments (str)\n",
    "│               ├── description (str)\n",
    "│               ├── conversion (float64)\n",
    "│               ├── offset (float64)\n",
    "│               ├── unit (str): volts\n",
    "│               ├── data (Dataset): shape (10168076, 73); dtype float32\n",
    "│               └── timestamps (Dataset): shape (10168076,); dtype float64\n",
    "├── electrode_groups (LabelledDict)\n",
    "│   └── probeA (EcephysElectrodeGroup)\n",
    "│       ├── description (str): Ecephys Electrode Group\n",
    "│       ├── location (str): See electrode locations\n",
    "│       ├── has_lfp_data (bool)\n",
    "│       ├── probe_id (int64)\n",
    "│       ├── lfp_sampling_rate (float64): 625.0\n",
    "│       └── device (EcephysProbe)\n",
    "├── devices (LabelledDict)\n",
    "│   └── probeA (EcephysProbe)\n",
    "│       ├── description (str): Neuropixels 1.0 Probe\n",
    "│       ├── manufacturer (str): imec\n",
    "│       ├── sampling_rate (float64): 30000.0\n",
    "│       └── probe_id (int64)\n",
    "├── session_id (str)\n",
    "├── institution (str)\n",
    "├── stimulus_notes (str)\n",
    "├── electrodes (DynamicTable): metadata about extracellular electrodes\n",
    "│   ├── description (str)\n",
    "│   ├── colnames (tuple)\n",
    "│   ├── columns (tuple)\n",
    "│   ├── id (ElementIdentifiers)\n",
    "│   ├── location (VectorData): brain region\n",
    "│   ├── group (VectorData): reference to ElectrodeGroup\n",
    "│   ├── group_name (VectorData): name of ElectrodeGroup\n",
    "│   ├── probe_vertical_position (VectorData): microns\n",
    "│   ├── probe_horizontal_position (VectorData): microns\n",
    "│   ├── probe_id (VectorData): unique id of device\n",
    "│   ├── local_index (VectorData): local index on device\n",
    "│   ├── valid_data (VectorData): usable data\n",
    "│   ├── x, y, z (VectorData): coordinates\n",
    "│   ├── imp (VectorData): impedance in ohms\n",
    "│   └── filtering (VectorData): hardware filtering description\n",
    "└── subject (EcephysSpecimen)\n",
    "    ├── age (str)\n",
    "    ├── age__reference (str)\n",
    "    ├── genotype (str)\n",
    "    ├── sex (str)\n",
    "    ├── species (str)\n",
    "    ├── subject_id (str)\n",
    "    ├── strain (str)\n",
    "    ├── specimen_name (str)\n",
    "    └── age_in_days (float64)\n",
    "```\n",
    "\n",
    "This file primarily contains `ElectricalSeries` data under `acquisition/probe_0_lfp/electrical_series/probe_0_lfp_data`, which represents the LFP recordings. The `electrodes` table provides detailed information about each recording channel, including location and position on the probe.\n",
    "\n",
    "You can explore this NWB file further on neurosift: [https://neurosift.app/nwb?url=https://api.dandiarchive.org/api/assets/1f158fe0-f8ef-495e-b031-da25316a335c/download/&dandisetId=000563&dandisetVersion=draft](https://neurosift.app/nwb?url=https://api.dandiarchive.org/api/assets/1f158fe0-f8ef-495e-b031-da25316a335c/download/&dandisetId=000563&dandisetVersion=draft)"
   ]
  },
  {
   "cell_type": "markdown",
   "id": "dcb52b1e",
   "metadata": {},
   "source": [
    "## Loading and Visualizing LFP Data\n",
    "\n",
    "We will now load a subset of the LFP data and visualize it. The `nwb-file-info` output showed that the LFP data is stored in `nwb.acquisition[\"probe_0_lfp_data\"]`. We will also examine the associated electrode table to understand the channels."
   ]
  },
  {
   "cell_type": "code",
   "execution_count": 4,
   "id": "cc664c8d",
   "metadata": {
    "execution": {
     "iopub.execute_input": "2025-05-09T19:54:12.729679Z",
     "iopub.status.busy": "2025-05-09T19:54:12.729490Z",
     "iopub.status.idle": "2025-05-09T19:54:12.745974Z",
     "shell.execute_reply": "2025-05-09T19:54:12.745552Z"
    }
   },
   "outputs": [
    {
     "name": "stdout",
     "output_type": "stream",
     "text": [
      "Electrodes table head:\n",
      "   location                                              group group_name  \\\n",
      "id                                                                          \n",
      "2       APN  probeA abc.EcephysElectrodeGroup at 0x12815213...     probeA   \n",
      "6       APN  probeA abc.EcephysElectrodeGroup at 0x12815213...     probeA   \n",
      "10      APN  probeA abc.EcephysElectrodeGroup at 0x12815213...     probeA   \n",
      "14      APN  probeA abc.EcephysElectrodeGroup at 0x12815213...     probeA   \n",
      "18      APN  probeA abc.EcephysElectrodeGroup at 0x12815213...     probeA   \n",
      "\n",
      "    probe_vertical_position  probe_horizontal_position  probe_id  local_index  \\\n",
      "id                                                                              \n",
      "2                        40                         59         0            2   \n",
      "6                        80                         59         0            6   \n",
      "10                      120                         59         0           10   \n",
      "14                      160                         59         0           14   \n",
      "18                      200                         59         0           18   \n",
      "\n",
      "    valid_data       x       y       z  imp  \\\n",
      "id                                            \n",
      "2         True  8064.0  3068.0  7299.0  NaN   \n",
      "6         True  8056.0  3032.0  7305.0  NaN   \n",
      "10        True  8049.0  2996.0  7312.0  NaN   \n",
      "14        True  8040.0  2952.0  7320.0  NaN   \n",
      "18        True  8032.0  2916.0  7326.0  NaN   \n",
      "\n",
      "                                            filtering  \n",
      "id                                                     \n",
      "2   AP band: 500 Hz high-pass; LFP band: 1000 Hz l...  \n",
      "6   AP band: 500 Hz high-pass; LFP band: 1000 Hz l...  \n",
      "10  AP band: 500 Hz high-pass; LFP band: 1000 Hz l...  \n",
      "14  AP band: 500 Hz high-pass; LFP band: 1000 Hz l...  \n",
      "18  AP band: 500 Hz high-pass; LFP band: 1000 Hz l...  \n"
     ]
    }
   ],
   "source": [
    "# Get the ElectricalSeries for LFP data\n",
    "lfp_electrical_series = nwb.acquisition[\"probe_0_lfp_data\"]\n",
    "\n",
    "# Get the electrodes information\n",
    "electrodes_table = nwb.electrodes.to_dataframe()\n",
    "\n",
    "print(\"Electrodes table head:\")\n",
    "print(electrodes_table.head())"
   ]
  },
  {
   "cell_type": "markdown",
   "id": "65bd45bf",
   "metadata": {},
   "source": [
    "The `electrodes_table` provides information about each channel, such as its location and position on the probe. We can see columns like `location`, `probe_vertical_position`, and `probe_horizontal_position`."
   ]
  },
  {
   "cell_type": "markdown",
   "id": "08a0456c",
   "metadata": {},
   "source": [
    "Now let's load a small portion of the LFP data and the corresponding timestamps. We will load the first 10000 time points for the first 5 channels."
   ]
  },
  {
   "cell_type": "code",
   "execution_count": 5,
   "id": "7d8b657d",
   "metadata": {
    "execution": {
     "iopub.execute_input": "2025-05-09T19:54:12.747581Z",
     "iopub.status.busy": "2025-05-09T19:54:12.747468Z",
     "iopub.status.idle": "2025-05-09T19:54:13.500134Z",
     "shell.execute_reply": "2025-05-09T19:54:13.499561Z"
    }
   },
   "outputs": [
    {
     "name": "stdout",
     "output_type": "stream",
     "text": [
      "\n",
      "Shape of LFP data subset: (10000, 5)\n",
      "Shape of timestamps subset: (10000,)\n"
     ]
    }
   ],
   "source": [
    "# Define the time indices and channel indices to load\n",
    "start_time_index = 0\n",
    "end_time_index = 10000\n",
    "start_channel_index = 0\n",
    "end_channel_index = 5\n",
    "\n",
    "# Load a subset of the LFP data\n",
    "lfp_data_subset = lfp_electrical_series.data[start_time_index:end_time_index, start_channel_index:end_channel_index]\n",
    "\n",
    "# Load the corresponding timestamps\n",
    "timestamps_subset = lfp_electrical_series.timestamps[start_time_index:end_time_index]\n",
    "\n",
    "print(f\"\\nShape of LFP data subset: {lfp_data_subset.shape}\")\n",
    "print(f\"Shape of timestamps subset: {timestamps_subset.shape}\")"
   ]
  },
  {
   "cell_type": "markdown",
   "id": "9d6e7765",
   "metadata": {},
   "source": [
    "We have loaded a small subset of the data to avoid excessive memory usage and network transfer. Now let's plot the LFP data for these few channels."
   ]
  },
  {
   "cell_type": "code",
   "execution_count": 6,
   "id": "9000f278",
   "metadata": {
    "execution": {
     "iopub.execute_input": "2025-05-09T19:54:13.502053Z",
     "iopub.status.busy": "2025-05-09T19:54:13.501870Z",
     "iopub.status.idle": "2025-05-09T19:54:13.671747Z",
     "shell.execute_reply": "2025-05-09T19:54:13.671197Z"
    }
   },
   "outputs": [
    {
     "data": {
      "image/png": "[encoded data removed]",
      "text/plain": [
       "<Figure size 1200x600 with 1 Axes>"
      ]
     },
     "metadata": {},
     "output_type": "display_data"
    }
   ],
   "source": [
    "# Plot the LFP data subset\n",
    "plt.figure(figsize=(12, 6))\n",
    "for i in range(lfp_data_subset.shape[1]):\n",
    "    plt.plot(timestamps_subset, lfp_data_subset[:, i] + i * 200) # Offset for visualization\n",
    "plt.xlabel(\"Time (s)\")\n",
    "plt.ylabel(\"Amplitude (arbitrary units, offset for channels)\")\n",
    "plt.title(\"LFP Data Subset for First 5 Channels\")\n",
    "plt.show()"
   ]
  },
  {
   "cell_type": "markdown",
   "id": "0c01793f",
   "metadata": {},
   "source": [
    "The plot shows the LFP traces for the first 5 channels over a short time interval. We can see variability in the LFP signals across channels. The offset is applied for better visualization of individual traces."
   ]
  },
  {
   "cell_type": "markdown",
   "id": "dae2618a",
   "metadata": {},
   "source": [
    "## Summarizing the Contents and Potential Future Directions\n",
    "\n",
    "This notebook provided a basic introduction to accessing and exploring Dandiset 000563. We loaded the Dandiset metadata and asset list, examined the structure of a selected NWB file containing LFP data, and visualized a subset of the LFP recordings.\n",
    "\n",
    "The Dandiset also contains other NWB files, including those with `_ogen.nwb` suffix which likely contain optogenetic stimulation data. Further analysis could involve exploring these other files and investigating the relationship between optogenetic stimulation and neural responses.\n",
    "\n",
    "The `electrodes` table contains valuable information about the recording channels, including their locations. This information could be used to analyze LFP activity in specific brain regions or across different depths of the probe.\n",
    "\n",
    "Potential future directions for analysis include:\n",
    "\n",
    "* Analyzing the full LFP dataset to identify oscillations or other patterns.\n",
    "* Investigating neural responses to different visual stimuli presented in the experiment (as mentioned in the Dandiset description).\n",
    "* Comparing LFP activity across different probes or animals.\n",
    "* Integrating the LFP data with the optogenetic stimulation data to study the effects of stimulation.\n",
    "* Exploring the \"temporal barcode\" hypothesis by analyzing spike timing patterns (if spike data is available in other NWB files)."
   ]
  },
  {
   "cell_type": "markdown",
   "id": "fa0e3401",
   "metadata": {},
   "source": [
    "This notebook serves as a starting point for exploring this rich dataset. Researchers can expand upon this code to perform more in-depth analysis based on their specific research questions."
   ]
  }
 ],
 "metadata": {
  "jupytext": {
   "cell_metadata_filter": "-all",
   "main_language": "python",
   "notebook_metadata_filter": "-all"
  },
  "language_info": {
   "codemirror_mode": {
    "name": "ipython",
    "version": 3
   },
   "file_extension": ".py",
   "mimetype": "text/x-python",
   "name": "python",
   "nbconvert_exporter": "python",
   "pygments_lexer": "ipython3",
   "version": "3.12.2"
  }
 },
 "nbformat": 4,
 "nbformat_minor": 5
}
