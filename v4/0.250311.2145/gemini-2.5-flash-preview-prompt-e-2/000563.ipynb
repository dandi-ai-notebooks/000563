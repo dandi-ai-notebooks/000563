{
 "cells": [
  {
   "cell_type": "markdown",
   "id": "958923d3",
   "metadata": {},
   "source": [
    "# Exploring Dandiset 000563: Allen Institute Openscope - Barcoding\n",
    "\n",
    "This notebook explores Dandiset 000563, which contains extracellular electrophysiology data related to \"barcoding\" neural responses to visual stimuli in the mouse brain.\n",
    "\n",
    "**Note:** This notebook was AI-generated and has not been fully verified. Please exercise caution when interpreting the code or results."
   ]
  },
  {
   "cell_type": "markdown",
   "id": "80cc5d08",
   "metadata": {},
   "source": [
    "## Dandiset Overview\n",
    "\n",
    "Dandiset 000563, titled \"Allen Institute Openscope - Barcoding\", focuses on neural responses to white noise flicker visual stimuli, which can produce \"barcode\"-like patterns in spike rasters. This dataset explores whether these patterns could be used as identifiers of discrete cell types.\n",
    "\n",
    "The Dandiset can be accessed at: https://dandiarchive.org/dandiset/000563/0.250311.2145\n",
    "\n",
    "The data includes Neuropixels recordings throughout the mouse brain.\n",
    "\n",
    "This notebook will demonstrate how to:\n",
    "- Load basic information about the Dandiset using the DANDI API.\n",
    "- Access one of the NWB files in the Dandiset using a remote URL.\n",
    "- Explore the metadata and structure of the NWB file.\n",
    "- Load and visualize some of the electrophysiology data (LFP)."
   ]
  },
  {
   "cell_type": "markdown",
   "id": "03f50e1b",
   "metadata": {},
   "source": [
    "## Required Packages\n",
    "\n",
    "This notebook requires the following Python packages:\n",
    "- `dandi`\n",
    "- `pynwb`\n",
    "- `h5py`\n",
    "- `remfile`\n",
    "- `numpy`\n",
    "- `matplotlib`\n",
    "- `seaborn`\n",
    "- `pandas`\n",
    "- `itertools`"
   ]
  },
  {
   "cell_type": "code",
   "execution_count": 1,
   "id": "54005bf5",
   "metadata": {
    "execution": {
     "iopub.execute_input": "2025-05-09T19:54:49.751012Z",
     "iopub.status.busy": "2025-05-09T19:54:49.750726Z",
     "iopub.status.idle": "2025-05-09T19:54:50.868823Z",
     "shell.execute_reply": "2025-05-09T19:54:50.868072Z"
    }
   },
   "outputs": [],
   "source": [
    "# Load necessary libraries\n",
    "from itertools import islice\n",
    "from dandi.dandiapi import DandiAPIClient\n",
    "import pynwb\n",
    "import h5py\n",
    "import remfile\n",
    "import numpy as np\n",
    "import matplotlib.pyplot as plt\n",
    "import seaborn as sns\n",
    "import pandas as pd\n",
    "\n",
    "# Set seaborn theme for visualizations (excluding images)\n",
    "sns.set_theme()"
   ]
  },
  {
   "cell_type": "markdown",
   "id": "1757fe87",
   "metadata": {},
   "source": [
    "## Loading the Dandiset\n",
    "\n",
    "We can use the DandiAPIClient to connect to the DANDI archive and retrieve information about the Dandiset."
   ]
  },
  {
   "cell_type": "code",
   "execution_count": 2,
   "id": "83545ee9",
   "metadata": {
    "execution": {
     "iopub.execute_input": "2025-05-09T19:54:50.870684Z",
     "iopub.status.busy": "2025-05-09T19:54:50.870394Z",
     "iopub.status.idle": "2025-05-09T19:54:51.066496Z",
     "shell.execute_reply": "2025-05-09T19:54:51.064978Z"
    }
   },
   "outputs": [
    {
     "name": "stdout",
     "output_type": "stream",
     "text": [
      "Dandiset name: Allen Institute Openscope - Barcoding\n",
      "Dandiset URL: https://dandiarchive.org/dandiset/000563/0.250311.2145\n",
      "\n",
      "First 5 assets:\n",
      "- sub-699241/sub-699241_ses-1318772854_probe-1_ecephys.nwb (ID: 55148cf3-9d15-4d05-a190-4a73e007e48d)\n",
      "- sub-699241/sub-699241_ses-1318772854_probe-3_ecephys.nwb (ID: 1b6325a9-1fc2-4fed-999c-d7c3aeb7a7a1)\n",
      "- sub-699241/sub-699241_ses-1318772854_probe-4_ecephys.nwb (ID: 6e4d0047-ca6b-4d29-b150-bc9e2c445646)\n",
      "- sub-699241/sub-699241_ses-1318772854_probe-0_ecephys.nwb (ID: 54cef618-72de-4c69-b441-8bd5e26049c5)\n",
      "- sub-699241/sub-699241_ses-1318772854_ogen.nwb (ID: c3bbf094-904e-43b7-83d5-be5a8bf3826f)\n"
     ]
    }
   ],
   "source": [
    "# Connect to DANDI archive\n",
    "client = DandiAPIClient()\n",
    "dandiset = client.get_dandiset(\"000563\", \"0.250311.2145\")\n",
    "\n",
    "# Print basic information about the Dandiset\n",
    "metadata = dandiset.get_raw_metadata()\n",
    "print(f\"Dandiset name: {metadata['name']}\")\n",
    "print(f\"Dandiset URL: {metadata['url']}\")\n",
    "\n",
    "# List some assets in the Dandiset\n",
    "assets = dandiset.get_assets()\n",
    "print(\"\\nFirst 5 assets:\")\n",
    "for i, asset in enumerate(islice(assets, 5)):\n",
    "    print(f\"- {asset.path} (ID: {asset.identifier})\")\n",
    "    if i == 0:\n",
    "        # Store the first asset path and ID for later use\n",
    "        first_asset_path = asset.path\n",
    "        first_asset_id = asset.identifier"
   ]
  },
  {
   "cell_type": "markdown",
   "id": "c607e44a",
   "metadata": {},
   "source": [
    "## Loading an NWB file\n",
    "\n",
    "This Dandiset contains multiple NWB files, primarily containing electrophysiology (`_ecephys.nwb`) and optogenetics (`_ogen.nwb`) data from different subjects and sessions.\n",
    "\n",
    "We will load the following NWB file for demonstration:\n",
    "\n",
    "`{first_asset_path}`\n",
    "\n",
    "We can access this file directly using its remote URL derived from its Asset ID."
   ]
  },
  {
   "cell_type": "code",
   "execution_count": 3,
   "id": "b93a53c8",
   "metadata": {
    "execution": {
     "iopub.execute_input": "2025-05-09T19:54:51.069506Z",
     "iopub.status.busy": "2025-05-09T19:54:51.069235Z",
     "iopub.status.idle": "2025-05-09T19:54:52.492632Z",
     "shell.execute_reply": "2025-05-09T19:54:52.492322Z"
    }
   },
   "outputs": [
    {
     "name": "stdout",
     "output_type": "stream",
     "text": [
      "Loading NWB file from URL: https://api.dandiarchive.org/api/assets/55148cf3-9d15-4d05-a190-4a73e007e48d/download/\n"
     ]
    },
    {
     "name": "stderr",
     "output_type": "stream",
     "text": [
      "/home/magland/miniconda3/envs/dev/lib/python3.12/site-packages/hdmf/spec/namespace.py:535: UserWarning: Ignoring cached namespace 'hdmf-common' version 1.6.0 because version 1.8.0 is already loaded.\n",
      "  warn(\"Ignoring cached namespace '%s' version %s because version %s is already loaded.\"\n",
      "/home/magland/miniconda3/envs/dev/lib/python3.12/site-packages/hdmf/spec/namespace.py:535: UserWarning: Ignoring cached namespace 'core' version 2.6.0-alpha because version 2.7.0 is already loaded.\n",
      "  warn(\"Ignoring cached namespace '%s' version %s because version %s is already loaded.\"\n",
      "/home/magland/miniconda3/envs/dev/lib/python3.12/site-packages/hdmf/spec/namespace.py:535: UserWarning: Ignoring cached namespace 'hdmf-experimental' version 0.3.0 because version 0.5.0 is already loaded.\n",
      "  warn(\"Ignoring cached namespace '%s' version %s because version %s is already loaded.\"\n"
     ]
    },
    {
     "name": "stdout",
     "output_type": "stream",
     "text": [
      "\n",
      "NWB file loaded successfully.\n",
      "Session description: LFP data and associated info for one probe\n",
      "Session ID: 1318772854\n"
     ]
    }
   ],
   "source": [
    "# Construct the URL for the selected asset\n",
    "nwb_url = f\"https://api.dandiarchive.org/api/assets/{first_asset_id}/download/\"\n",
    "print(f\"Loading NWB file from URL: {nwb_url}\")\n",
    "\n",
    "# Load the NWB file remotely\n",
    "remote_file = remfile.File(nwb_url)\n",
    "h5_file = h5py.File(remote_file)\n",
    "io = pynwb.NWBHDF5IO(file=h5_file)\n",
    "nwb = io.read()\n",
    "\n",
    "# We won't display the full nwb object as it can be very large.\n",
    "print(\"\\nNWB file loaded successfully.\")\n",
    "print(f\"Session description: {nwb.session_description}\")\n",
    "print(f\"Session ID: {nwb.session_id}\")"
   ]
  },
  {
   "cell_type": "markdown",
   "id": "be52f9f5",
   "metadata": {},
   "source": [
    "## Exploring NWB File Contents and Metadata\n",
    "\n",
    "Let's look at some of the key sections and metadata available in this NWB file."
   ]
  },
  {
   "cell_type": "markdown",
   "id": "ef21ced7",
   "metadata": {},
   "source": [
    "### Acquisition\n",
    "\n",
    "The `acquisition` section contains the raw data recorded during the experiment. In this file, we expect to find the LFP data."
   ]
  },
  {
   "cell_type": "code",
   "execution_count": 4,
   "id": "44b2e478",
   "metadata": {
    "execution": {
     "iopub.execute_input": "2025-05-09T19:54:52.494002Z",
     "iopub.status.busy": "2025-05-09T19:54:52.493878Z",
     "iopub.status.idle": "2025-05-09T19:54:52.496341Z",
     "shell.execute_reply": "2025-05-09T19:54:52.496132Z"
    }
   },
   "outputs": [
    {
     "name": "stdout",
     "output_type": "stream",
     "text": [
      "Acquisition keys:\n",
      "- probe_1_lfp\n",
      "- probe_1_lfp_data\n",
      "\n",
      "Could not find expected LFP data in acquisition.\n"
     ]
    }
   ],
   "source": [
    "# Explore the acquisition section\n",
    "print(\"Acquisition keys:\")\n",
    "for key in nwb.acquisition.keys():\n",
    "    print(f\"- {key}\")\n",
    "\n",
    "# Access the LFP data ElectricalSeries\n",
    "if \"probe_0_lfp\" in nwb.acquisition and \"probe_0_lfp_data\" in nwb.acquisition[\"probe_0_lfp\"].electrical_series:\n",
    "    lfp_electrical_series = nwb.acquisition[\"probe_0_lfp\"].electrical_series[\"probe_0_lfp_data\"]\n",
    "    print(f\"\\nLFP data shape: {lfp_electrical_series.data.shape}\")\n",
    "    print(f\"LFP data units: {lfp_electrical_series.unit}\")\n",
    "    print(f\"LFP timestamps shape: {lfp_electrical_series.timestamps.shape}\")\n",
    "else:\n",
    "    print(\"\\nCould not find expected LFP data in acquisition.\")\n",
    "    lfp_electrical_series = None # Ensure lfp_electrical_series is None if not found"
   ]
  },
  {
   "cell_type": "markdown",
   "id": "996f2922",
   "metadata": {},
   "source": [
    "### Electrodes\n",
    "\n",
    "The `electrodes` table provides metadata about each recording channel, such as their location and grouping."
   ]
  },
  {
   "cell_type": "code",
   "execution_count": 5,
   "id": "8eac1020",
   "metadata": {
    "execution": {
     "iopub.execute_input": "2025-05-09T19:54:52.497484Z",
     "iopub.status.busy": "2025-05-09T19:54:52.497405Z",
     "iopub.status.idle": "2025-05-09T19:54:52.505937Z",
     "shell.execute_reply": "2025-05-09T19:54:52.505711Z"
    }
   },
   "outputs": [
    {
     "name": "stdout",
     "output_type": "stream",
     "text": [
      "\n",
      "Electrodes table columns:\n",
      "- location\n",
      "- group\n",
      "- group_name\n",
      "- probe_vertical_position\n",
      "- probe_horizontal_position\n",
      "- probe_id\n",
      "- local_index\n",
      "- valid_data\n",
      "- x\n",
      "- y\n",
      "- z\n",
      "- imp\n",
      "- filtering\n",
      "\n",
      "First 5 rows of the electrodes table:\n",
      "     location                                              group group_name  \\\n",
      "id                                                                            \n",
      "1002      Eth  probeC abc.EcephysElectrodeGroup at 0x13027543...     probeC   \n",
      "1006      Eth  probeC abc.EcephysElectrodeGroup at 0x13027543...     probeC   \n",
      "1010       LP  probeC abc.EcephysElectrodeGroup at 0x13027543...     probeC   \n",
      "1014       LP  probeC abc.EcephysElectrodeGroup at 0x13027543...     probeC   \n",
      "1018       LP  probeC abc.EcephysElectrodeGroup at 0x13027543...     probeC   \n",
      "\n",
      "      probe_vertical_position  probe_horizontal_position  probe_id  \\\n",
      "id                                                                   \n",
      "1002                       40                         59         1   \n",
      "1006                       80                         59         1   \n",
      "1010                      120                         59         1   \n",
      "1014                      160                         59         1   \n",
      "1018                      200                         59         1   \n",
      "\n",
      "      local_index  valid_data       x       y       z  imp  \\\n",
      "id                                                           \n",
      "1002            2        True  7543.0  3332.0  7104.0  NaN   \n",
      "1006            6        True  7554.0  3299.0  7109.0  NaN   \n",
      "1010           10        True  7565.0  3265.0  7114.0  NaN   \n",
      "1014           14        True  7579.0  3224.0  7119.0  NaN   \n",
      "1018           18        True  7590.0  3191.0  7123.0  NaN   \n",
      "\n",
      "                                              filtering  \n",
      "id                                                       \n",
      "1002  AP band: 500 Hz high-pass; LFP band: 1000 Hz l...  \n",
      "1006  AP band: 500 Hz high-pass; LFP band: 1000 Hz l...  \n",
      "1010  AP band: 500 Hz high-pass; LFP band: 1000 Hz l...  \n",
      "1014  AP band: 500 Hz high-pass; LFP band: 1000 Hz l...  \n",
      "1018  AP band: 500 Hz high-pass; LFP band: 1000 Hz l...  \n"
     ]
    }
   ],
   "source": [
    "# Explore the electrodes table\n",
    "if nwb.electrodes:\n",
    "    print(\"\\nElectrodes table columns:\")\n",
    "    for col in nwb.electrodes.colnames:\n",
    "        print(f\"- {col}\")\n",
    "\n",
    "    # Display the first few rows of the electrodes table\n",
    "    electrodes_df = nwb.electrodes.to_dataframe()\n",
    "    print(\"\\nFirst 5 rows of the electrodes table:\")\n",
    "    print(electrodes_df.head())"
   ]
  },
  {
   "cell_type": "markdown",
   "id": "15c08a57",
   "metadata": {},
   "source": [
    "### Subject\n",
    "\n",
    "Information about the experimental subject is stored in the `subject` section."
   ]
  },
  {
   "cell_type": "code",
   "execution_count": 6,
   "id": "f9e9798a",
   "metadata": {
    "execution": {
     "iopub.execute_input": "2025-05-09T19:54:52.507109Z",
     "iopub.status.busy": "2025-05-09T19:54:52.507016Z",
     "iopub.status.idle": "2025-05-09T19:54:52.509030Z",
     "shell.execute_reply": "2025-05-09T19:54:52.508837Z"
    }
   },
   "outputs": [
    {
     "name": "stdout",
     "output_type": "stream",
     "text": [
      "\n",
      "Subject metadata:\n",
      "- Subject ID: 699241\n",
      "- Species: Mus musculus\n",
      "- Genotype: Pvalb-IRES-Cre/wt;Ai32(RCL-ChR2(H134R)_EYFP)/wt\n",
      "- Sex: M\n",
      "- Age: P124D\n",
      "- Strain: Transgenic\n"
     ]
    }
   ],
   "source": [
    "# Explore subject metadata\n",
    "if nwb.subject:\n",
    "    print(\"\\nSubject metadata:\")\n",
    "    print(f\"- Subject ID: {nwb.subject.subject_id}\")\n",
    "    print(f\"- Species: {nwb.subject.species}\")\n",
    "    print(f\"- Genotype: {nwb.subject.genotype}\")\n",
    "    print(f\"- Sex: {nwb.subject.sex}\")\n",
    "    print(f\"- Age: {nwb.subject.age}\")\n",
    "    print(f\"- Strain: {nwb.subject.strain}\")"
   ]
  },
  {
   "cell_type": "markdown",
   "id": "14745ecd",
   "metadata": {},
   "source": [
    "## Exploring this NWB file on Neurosift\n",
    "\n",
    "For a different way to explore the contents and structure of this NWB file directly in your web browser, you can use Neurosift:\n",
    "\n",
    "https://neurosift.app/nwb?url={nwb_url}&dandisetId=000563&dandisetVersion=0.250311.2145"
   ]
  },
  {
   "cell_type": "markdown",
   "id": "cb937df9",
   "metadata": {},
   "source": [
    "## Visualizing LFP Data\n",
    "\n",
    "We can load a subset of the LFP data and its corresponding timestamps to visualize the activity over time. Since the data is large, we will load only a short segment for a few channels."
   ]
  },
  {
   "cell_type": "code",
   "execution_count": 7,
   "id": "e078e44d",
   "metadata": {
    "execution": {
     "iopub.execute_input": "2025-05-09T19:54:52.510127Z",
     "iopub.status.busy": "2025-05-09T19:54:52.510045Z",
     "iopub.status.idle": "2025-05-09T19:54:52.512326Z",
     "shell.execute_reply": "2025-05-09T19:54:52.512141Z"
    }
   },
   "outputs": [
    {
     "name": "stdout",
     "output_type": "stream",
     "text": [
      "LSP data not available for visualization.\n"
     ]
    }
   ],
   "source": [
    "# Check if LFP data was successfully loaded\n",
    "if lfp_electrical_series is not None:\n",
    "    # Define the start and end index for the data subset\n",
    "    start_index = 10000\n",
    "    end_index = start_index + 5000 # Load 5000 samples\n",
    "    \n",
    "    # Define the channel indices to visualize\n",
    "    channel_indices = [0, 10, 20, 30] # Visualize 4 channels\n",
    "\n",
    "    # Load the data subset\n",
    "    # We select rows by index and columns by index\n",
    "    lfp_data_subset = lfp_electrical_series.data[start_index:end_index, channel_indices]\n",
    "\n",
    "    # Load the corresponding timestamps subset\n",
    "    lfp_timestamps_subset = lfp_electrical_series.timestamps[start_index:end_index]\n",
    "\n",
    "    # Plot the LFP data subset\n",
    "    plt.figure(figsize=(12, 6))\n",
    "    for i, channel_index in enumerate(channel_indices):\n",
    "        # Offset the channels vertically for better visibility\n",
    "        offset = i * 500 # Adjust offset as needed\n",
    "        plt.plot(lfp_timestamps_subset, lfp_data_subset[:, i] + offset, label=f'Channel Index {channel_index}')\n",
    "\n",
    "    plt.xlabel(\"Time (s)\")\n",
    "    plt.ylabel(f\"LFP Signal ({lfp_electrical_series.unit}) + Offset\")\n",
    "    plt.title(\"Subset of LFP Data from Selected Channels\")\n",
    "    plt.legend()\n",
    "    plt.show()\n",
    "else:\n",
    "    print(\"LSP data not available for visualization.\")"
   ]
  },
  {
   "cell_type": "markdown",
   "id": "2a3eba3f",
   "metadata": {},
   "source": [
    "## Summary and Future Directions\n",
    "\n",
    "This notebook demonstrated how to access and perform basic exploration and visualization of electrophysiology data from Dandiset 000563. We loaded Dandiset metadata, explored assets, accessed a specific NWB file remotely, examined its structure and metadata, and visualized a subset of the LFP data.\n",
    "\n",
    "Possible future directions for analysis include:\n",
    "- Exploring other NWB files in the Dandiset (e.g., optogenetics data).\n",
    "- Downloading larger subsets of data for more extensive analysis.\n",
    "- Applying signal processing techniques (e.g., filtering, spectral analysis) to the LFP data.\n",
    "- Investigating the relationship between neural activity and the visual stimuli.\n",
    "- Comparing data across different subjects or sessions.\n",
    "- Analyzing spike times (if available in other NWB files in the dandiset) and their \"barcode\" patterns."
   ]
  }
 ],
 "metadata": {
  "jupytext": {
   "cell_metadata_filter": "-all",
   "main_language": "python",
   "notebook_metadata_filter": "-all"
  },
  "language_info": {
   "codemirror_mode": {
    "name": "ipython",
    "version": 3
   },
   "file_extension": ".py",
   "mimetype": "text/x-python",
   "name": "python",
   "nbconvert_exporter": "python",
   "pygments_lexer": "ipython3",
   "version": "3.12.2"
  }
 },
 "nbformat": 4,
 "nbformat_minor": 5
}
