{
 "cells": [
  {
   "cell_type": "markdown",
   "id": "9d1529eb",
   "metadata": {},
   "source": [
    "# Exploring Dandiset 000563: Allen Institute Openscope - Barcoding\n",
    "\n",
    "**Note: This notebook was AI-generated and has not been fully verified. Please be cautious when interpreting code or results.**\n",
    "\n",
    "---\n",
    "\n",
    "## Overview\n",
    "\n",
    "This notebook helps you explore [Dandiset 000563, version 0.250311.2145](https://dandiarchive.org/dandiset/000563/0.250311.2145), titled _Allen Institute Openscope - Barcoding_. The Dandiset comprises extracellular electrophysiological recordings and related data from mouse brain visual areas responding to white noise visual stimuli, enabling investigation into neural \"barcode\" patterns and precise spike timing.\n",
    "\n",
    "**Citation:**  \n",
    "Reinagel, Pamela; Lecoq, Jérôme; Durand, Séverine; Gillis, Ryan; ...; Howard, Robert (2025) Allen Institute Openscope - Barcoding (Version 0.250311.2145) [Data set]. DANDI Archive. https://doi.org/10.48324/dandi.000563/0.250311.2145\n",
    "\n",
    "**Keywords:** mouse, neuropixel, extracellular electrophysiology, neocortex, barcoding, temporal precision\n",
    "\n",
    "---\n",
    "\n",
    "## What this notebook covers:\n",
    "- Summarizes dataset contents and metadata.\n",
    "- Shows how to access Dandiset assets using the DANDI API.\n",
    "- Demonstrates how to load and inspect a remote NWB file.\n",
    "- Visualizes Local Field Potential (LFP) data across electrodes.\n",
    "- Illustrates examining metadata tables.\n",
    "- Provides links for external exploration (Neurosift).\n",
    "\n",
    "_**Tip:** The datasets may be large; this notebook demonstrates working with manageable data slices for efficient exploration._"
   ]
  },
  {
   "cell_type": "markdown",
   "id": "cff3ee51",
   "metadata": {},
   "source": [
    "## Required packages\n",
    "This notebook requires the following Python packages (assumed to be pre-installed):\n",
    "\n",
    "- `dandi`\n",
    "- `pynwb`\n",
    "- `h5py`\n",
    "- `remfile`\n",
    "- `pandas`\n",
    "- `matplotlib`\n",
    "- `seaborn`\n",
    "\n",
    "_Please ensure these are installed before running the notebook._"
   ]
  },
  {
   "cell_type": "code",
   "execution_count": 1,
   "id": "08d7a406",
   "metadata": {
    "execution": {
     "iopub.execute_input": "2025-05-09T20:28:13.390670Z",
     "iopub.status.busy": "2025-05-09T20:28:13.390048Z",
     "iopub.status.idle": "2025-05-09T20:28:14.650655Z",
     "shell.execute_reply": "2025-05-09T20:28:14.650141Z"
    }
   },
   "outputs": [],
   "source": [
    "# Import packages\n",
    "from itertools import islice\n",
    "from dandi.dandiapi import DandiAPIClient\n",
    "import remfile\n",
    "import h5py\n",
    "import pynwb\n",
    "import pandas as pd\n",
    "import matplotlib.pyplot as plt\n",
    "import seaborn as sns\n",
    "\n",
    "# For visualization aesthetics\n",
    "sns.set_theme()\n",
    "plt.rcParams['figure.figsize'] = (12, 5)"
   ]
  },
  {
   "cell_type": "markdown",
   "id": "24bb4e28",
   "metadata": {},
   "source": [
    "## 1. Explore Dandiset Metadata"
   ]
  },
  {
   "cell_type": "code",
   "execution_count": 2,
   "id": "d8055c60",
   "metadata": {
    "execution": {
     "iopub.execute_input": "2025-05-09T20:28:14.652724Z",
     "iopub.status.busy": "2025-05-09T20:28:14.651985Z",
     "iopub.status.idle": "2025-05-09T20:28:14.786386Z",
     "shell.execute_reply": "2025-05-09T20:28:14.786050Z"
    }
   },
   "outputs": [
    {
     "name": "stdout",
     "output_type": "stream",
     "text": [
      "Dandiset ID: DANDI:000563\n",
      "Name: Allen Institute Openscope - Barcoding\n",
      "Version: 0.250311.2145\n",
      "Description:\n",
      "Some visual neurons have been shown to respond to white noise flicker visual stimuli with high temporal precision, particularly retinal ganglion cells and LGN relay cells. Responses to white noise stimulation are useful for a variety of analyses, including information theoretic measures and generative models of precise spike timing. However the literature was lacking data on responses to white noise in cortical visual areas, or in the visual stream flowing through the superior colliculus.\n",
      "\n",
      "This experiment used the OpenScope Neuropixels passive viewing protocol, and displayed visual stimuli modulated in time by a short, repeated white noise sequence. The visual stimulus was either a spatially uniform field whose luminance was modulated in time (Full Field Flicker), or a standing sinusoidal grating whose contrast was modulated in time (Static Gratings). Perhaps surprisingly, most cortical visual neurons responded well to full-field flicker white noise.  To obtain large populations of neurons in subcortical areas, roughly half of the mice were recorded in a novel electrode configuration. \n",
      "\n",
      "When white noise visual stimuli are presented repeatedly and the neural responses displayed as spike rasters, the rasters look remarkably like UPC codes or bar codes. The same bar-code-like patterns have been found in neurons recorded in different individual animals, and even neurons in different species. We speculated that these barcodes could be used as identifiers of discrete cell types. The Temporal Barcode Dataset provides \"barcodes\" for visually responsive neurons throughout the mouse brain, enabling a test of this hypothesis.\n",
      "\n",
      "Contributors: National Institutes of Health (NIH); Reinagel, Pamela; Lecoq, Jérôme; Durand, Séverine; Gillis, Ryan; Carlson, Mikayla; Peene, Carter; Bawany, Ahad; Johnson, Tye; Amaya, Avalon; Han, Warren; Wilkes, Josh; Nguyen, Katrina; Suarez, Lucas; Naidoo, Robyn; Ouellette, Ben; Grasso, Conor ; Loeffler, Henry; Belski, Hannah; Williford, Ali; Swapp, Jackie; Howard, Robert\n",
      "\n",
      "Keywords: mouse, neuropixel, extracellular electrophysiology, neocortex, excitatory, inhibitory, barcoding, temporal, precision\n",
      "\n",
      "Citation:\n",
      "Reinagel, Pamela; Lecoq, Jérôme; Durand, Séverine; Gillis, Ryan; Carlson, Mikayla; Peene, Carter; Bawany, Ahad; Johnson, Tye; Amaya, Avalon; Han, Warren; Wilkes, Josh; Nguyen, Katrina; Suarez, Lucas; Naidoo, Robyn; Ouellette, Ben; Grasso, Conor ; Loeffler, Henry; Belski, Hannah; Williford, Ali; Swapp, Jackie; Howard, Robert (2025) Allen Institute Openscope - Barcoding (Version 0.250311.2145) [Data set]. DANDI Archive. https://doi.org/10.48324/dandi.000563/0.250311.2145\n"
     ]
    }
   ],
   "source": [
    "# Connect to DANDI archive and get Dandiset\n",
    "dandiset_id = \"000563\"\n",
    "dandiset_version = \"0.250311.2145\"\n",
    "client = DandiAPIClient()\n",
    "dandiset = client.get_dandiset(dandiset_id, dandiset_version)\n",
    "metadata = dandiset.get_raw_metadata()\n",
    "\n",
    "print(f\"Dandiset ID: {metadata.get('identifier', '')}\")\n",
    "print(f\"Name: {metadata.get('name', '')}\")\n",
    "print(f\"Version: {metadata.get('version', '')}\")\n",
    "print(f\"Description:\\n{metadata.get('description', '')}\\n\")\n",
    "# Display contributor names if possible\n",
    "contributors = metadata.get('contributor', [])\n",
    "if contributors and isinstance(contributors[0], dict):\n",
    "    contributors_str = \"; \".join(str(c.get(\"name\", c)) for c in contributors)\n",
    "else:\n",
    "    contributors_str = \"; \".join(str(c) for c in contributors)\n",
    "print(f\"Contributors: {contributors_str}\\n\")\n",
    "print(\"Keywords:\", \", \".join(metadata.get('keywords', [])))\n",
    "print(\"\\nCitation:\")\n",
    "print(metadata.get('citation', ''))"
   ]
  },
  {
   "cell_type": "markdown",
   "id": "952a7673",
   "metadata": {},
   "source": [
    "---\n",
    "## 2. List Dandiset Assets\n",
    "\n",
    "Let's list the first several files to get a sense of what types of assets are present."
   ]
  },
  {
   "cell_type": "code",
   "execution_count": 3,
   "id": "4adcb256",
   "metadata": {
    "execution": {
     "iopub.execute_input": "2025-05-09T20:28:14.787788Z",
     "iopub.status.busy": "2025-05-09T20:28:14.787516Z",
     "iopub.status.idle": "2025-05-09T20:28:14.896746Z",
     "shell.execute_reply": "2025-05-09T20:28:14.896322Z"
    }
   },
   "outputs": [
    {
     "data": {
      "text/html": [
       "<style type=\"text/css\">\n",
       "</style>\n",
       "<table id=\"T_d4781\">\n",
       "  <thead>\n",
       "    <tr>\n",
       "      <th id=\"T_d4781_level0_col0\" class=\"col_heading level0 col0\" >path</th>\n",
       "      <th id=\"T_d4781_level0_col1\" class=\"col_heading level0 col1\" >size_MB</th>\n",
       "      <th id=\"T_d4781_level0_col2\" class=\"col_heading level0 col2\" >asset_id</th>\n",
       "    </tr>\n",
       "  </thead>\n",
       "  <tbody>\n",
       "    <tr>\n",
       "      <td id=\"T_d4781_row0_col0\" class=\"data row0 col0\" >sub-699241/sub-699241_ses-1318772854_probe-1_ecephys.nwb</td>\n",
       "      <td id=\"T_d4781_row0_col1\" class=\"data row0 col1\" >2083.464465</td>\n",
       "      <td id=\"T_d4781_row0_col2\" class=\"data row0 col2\" >55148cf3-9d15-4d05-a190-4a73e007e48d</td>\n",
       "    </tr>\n",
       "    <tr>\n",
       "      <td id=\"T_d4781_row1_col0\" class=\"data row1 col0\" >sub-699241/sub-699241_ses-1318772854_probe-3_ecephys.nwb</td>\n",
       "      <td id=\"T_d4781_row1_col1\" class=\"data row1 col1\" >2056.448726</td>\n",
       "      <td id=\"T_d4781_row1_col2\" class=\"data row1 col2\" >1b6325a9-1fc2-4fed-999c-d7c3aeb7a7a1</td>\n",
       "    </tr>\n",
       "    <tr>\n",
       "      <td id=\"T_d4781_row2_col0\" class=\"data row2 col0\" >sub-699241/sub-699241_ses-1318772854_probe-4_ecephys.nwb</td>\n",
       "      <td id=\"T_d4781_row2_col1\" class=\"data row2 col1\" >1920.369180</td>\n",
       "      <td id=\"T_d4781_row2_col2\" class=\"data row2 col2\" >6e4d0047-ca6b-4d29-b150-bc9e2c445646</td>\n",
       "    </tr>\n",
       "    <tr>\n",
       "      <td id=\"T_d4781_row3_col0\" class=\"data row3 col0\" >sub-699241/sub-699241_ses-1318772854_probe-0_ecephys.nwb</td>\n",
       "      <td id=\"T_d4781_row3_col1\" class=\"data row3 col1\" >2091.929191</td>\n",
       "      <td id=\"T_d4781_row3_col2\" class=\"data row3 col2\" >54cef618-72de-4c69-b441-8bd5e26049c5</td>\n",
       "    </tr>\n",
       "    <tr>\n",
       "      <td id=\"T_d4781_row4_col0\" class=\"data row4 col0\" >sub-699241/sub-699241_ses-1318772854_ogen.nwb</td>\n",
       "      <td id=\"T_d4781_row4_col1\" class=\"data row4 col1\" >2828.829044</td>\n",
       "      <td id=\"T_d4781_row4_col2\" class=\"data row4 col2\" >c3bbf094-904e-43b7-83d5-be5a8bf3826f</td>\n",
       "    </tr>\n",
       "    <tr>\n",
       "      <td id=\"T_d4781_row5_col0\" class=\"data row5 col0\" >sub-699241/sub-699241_ses-1318772854_probe-2_ecephys.nwb</td>\n",
       "      <td id=\"T_d4781_row5_col1\" class=\"data row5 col1\" >1859.035834</td>\n",
       "      <td id=\"T_d4781_row5_col2\" class=\"data row5 col2\" >4462a301-6089-4485-85b5-4d33e5ce94ef</td>\n",
       "    </tr>\n",
       "    <tr>\n",
       "      <td id=\"T_d4781_row6_col0\" class=\"data row6 col0\" >sub-699846/sub-699846_ses-1314466742_probe-1_ecephys.nwb</td>\n",
       "      <td id=\"T_d4781_row6_col1\" class=\"data row6 col1\" >1954.521997</td>\n",
       "      <td id=\"T_d4781_row6_col2\" class=\"data row6 col2\" >9f9239b5-9b10-4d89-92d5-c34c932c5cee</td>\n",
       "    </tr>\n",
       "    <tr>\n",
       "      <td id=\"T_d4781_row7_col0\" class=\"data row7 col0\" >sub-699846/sub-699846_ses-1314466742_probe-2_ecephys.nwb</td>\n",
       "      <td id=\"T_d4781_row7_col1\" class=\"data row7 col1\" >2049.199604</td>\n",
       "      <td id=\"T_d4781_row7_col2\" class=\"data row7 col2\" >c92b5909-6fd9-4b93-9a46-69e8ea572aa5</td>\n",
       "    </tr>\n",
       "    <tr>\n",
       "      <td id=\"T_d4781_row8_col0\" class=\"data row8 col0\" >sub-699846/sub-699846_ses-1314466742_probe-4_ecephys.nwb</td>\n",
       "      <td id=\"T_d4781_row8_col1\" class=\"data row8 col1\" >2050.914168</td>\n",
       "      <td id=\"T_d4781_row8_col2\" class=\"data row8 col2\" >870e732a-4873-4baf-9991-e9d0fc55b991</td>\n",
       "    </tr>\n",
       "    <tr>\n",
       "      <td id=\"T_d4781_row9_col0\" class=\"data row9 col0\" >sub-699846/sub-699846_ses-1314466742_probe-3_ecephys.nwb</td>\n",
       "      <td id=\"T_d4781_row9_col1\" class=\"data row9 col1\" >2044.857337</td>\n",
       "      <td id=\"T_d4781_row9_col2\" class=\"data row9 col2\" >bad2eae2-ed9b-4af7-a088-5ef87b18721e</td>\n",
       "    </tr>\n",
       "  </tbody>\n",
       "</table>\n"
      ],
      "text/plain": [
       "<pandas.io.formats.style.Styler at 0x79e024d1f230>"
      ]
     },
     "metadata": {},
     "output_type": "display_data"
    }
   ],
   "source": [
    "# List the first 10 assets in the Dandiset\n",
    "assets = list(islice(dandiset.get_assets(), 10))\n",
    "df_assets = pd.DataFrame([{'path': asset.path, 'size_MB': asset.size / 1e6, 'asset_id': asset.identifier} for asset in assets])\n",
    "display(df_assets.style.hide(axis='index'))"
   ]
  },
  {
   "cell_type": "markdown",
   "id": "3a55879e",
   "metadata": {},
   "source": [
    "For this exploration, we'll use the following NWB file:\n",
    "\n",
    "- **Path:** `sub-681446/sub-681446_ses-1290510496_probe-0_ecephys.nwb`\n",
    "- **Asset ID:** `1f158fe0-f8ef-495e-b031-da25316a335c`\n",
    "- **Download URL:** [Link](https://api.dandiarchive.org/api/assets/1f158fe0-f8ef-495e-b031-da25316a335c/download/)\n",
    "\n",
    "You can also explore this file on [Neurosift](https://neurosift.app/nwb?url=https://api.dandiarchive.org/api/assets/1f158fe0-f8ef-495e-b031-da25316a335c/download/&dandisetId=000563&dandisetVersion=draft).\n",
    "\n",
    "_Note: Only a portion of the file will be loaded at a time, as these are very large datasets!_"
   ]
  },
  {
   "cell_type": "markdown",
   "id": "c3e4f9bf",
   "metadata": {},
   "source": [
    "---\n",
    "## 3. Load and Inspect NWB File Metadata"
   ]
  },
  {
   "cell_type": "code",
   "execution_count": 4,
   "id": "aa7a03d2",
   "metadata": {
    "execution": {
     "iopub.execute_input": "2025-05-09T20:28:14.898264Z",
     "iopub.status.busy": "2025-05-09T20:28:14.897963Z",
     "iopub.status.idle": "2025-05-09T20:28:16.516565Z",
     "shell.execute_reply": "2025-05-09T20:28:16.515822Z"
    }
   },
   "outputs": [
    {
     "name": "stderr",
     "output_type": "stream",
     "text": [
      "/home/magland/miniconda3/envs/dev/lib/python3.12/site-packages/hdmf/spec/namespace.py:535: UserWarning: Ignoring cached namespace 'hdmf-common' version 1.6.0 because version 1.8.0 is already loaded.\n",
      "  warn(\"Ignoring cached namespace '%s' version %s because version %s is already loaded.\"\n",
      "/home/magland/miniconda3/envs/dev/lib/python3.12/site-packages/hdmf/spec/namespace.py:535: UserWarning: Ignoring cached namespace 'core' version 2.6.0-alpha because version 2.7.0 is already loaded.\n",
      "  warn(\"Ignoring cached namespace '%s' version %s because version %s is already loaded.\"\n",
      "/home/magland/miniconda3/envs/dev/lib/python3.12/site-packages/hdmf/spec/namespace.py:535: UserWarning: Ignoring cached namespace 'hdmf-experimental' version 0.3.0 because version 0.5.0 is already loaded.\n",
      "  warn(\"Ignoring cached namespace '%s' version %s because version %s is already loaded.\"\n"
     ]
    },
    {
     "name": "stdout",
     "output_type": "stream",
     "text": [
      "Session Description: LFP data and associated info for one probe\n",
      "Identifier: 0\n",
      "Session Start: 2023-08-16 00:00:00-07:00\n",
      "Institution: Allen Institute for Brain Science\n",
      "Subject:\n",
      "  Subject ID: 681446\n",
      "  Species: Mus musculus\n",
      "  Genotype: Pvalb-IRES-Cre/wt;Ai32(RCL-ChR2(H134R)_EYFP)/wt\n",
      "  Sex: M\n",
      "  Age (days): 112.0\n"
     ]
    }
   ],
   "source": [
    "# Load the NWB file remotely following DANDI/CLI usage\n",
    "nwb_url = \"https://api.dandiarchive.org/api/assets/1f158fe0-f8ef-495e-b031-da25316a335c/download/\"\n",
    "remote_file = remfile.File(nwb_url)\n",
    "h5_file = h5py.File(remote_file)\n",
    "io = pynwb.NWBHDF5IO(file=h5_file, load_namespaces=True)\n",
    "nwb = io.read()\n",
    "\n",
    "# Show session-level metadata\n",
    "print('Session Description:', nwb.session_description)\n",
    "print('Identifier:', nwb.identifier)\n",
    "print('Session Start:', nwb.session_start_time)\n",
    "print('Institution:', getattr(nwb, 'institution', '?'))\n",
    "print('Subject:')\n",
    "subject = nwb.subject\n",
    "print('  Subject ID:', getattr(subject, 'subject_id', '?'))\n",
    "print('  Species:', getattr(subject, 'species', '?'))\n",
    "print('  Genotype:', getattr(subject, 'genotype', '?'))\n",
    "print('  Sex:', getattr(subject, 'sex', '?'))\n",
    "print('  Age (days):', getattr(subject, 'age_in_days', '?'))"
   ]
  },
  {
   "cell_type": "markdown",
   "id": "8d54d172",
   "metadata": {},
   "source": [
    "Let's summarize the tree of key objects in this NWB file:"
   ]
  },
  {
   "cell_type": "markdown",
   "id": "eb099120",
   "metadata": {},
   "source": [
    "```\n",
    "NWB file\n",
    "├── acquisition\n",
    "│   └── probe_0_lfp (LFP)\n",
    "│       └── electrical_series\n",
    "│           └── probe_0_lfp_data (ElectricalSeries)\n",
    "│               ├── data: shape (10168076, 73) [float32, volts]\n",
    "│               ├── timestamps: (10168076,) [float64, seconds]\n",
    "│               └── electrodes: references electrodes table\n",
    "├── electrodes (metadata table)\n",
    "|    ├── 73 rows × 13 columns (locations, impedance, etc.)\n",
    "├── electrode_groups (e.g. probeA)\n",
    "├── devices (includes Neuropixels probe details)\n",
    "└── subject (mouse metadata)\n",
    "```\n",
    "\n",
    "We'll now look visually at the electrode metadata and load a sample of LFP data."
   ]
  },
  {
   "cell_type": "markdown",
   "id": "1e7bc57b",
   "metadata": {},
   "source": [
    "---\n",
    "## 4. Electrode Metadata Table"
   ]
  },
  {
   "cell_type": "code",
   "execution_count": 5,
   "id": "93b00467",
   "metadata": {
    "execution": {
     "iopub.execute_input": "2025-05-09T20:28:16.517873Z",
     "iopub.status.busy": "2025-05-09T20:28:16.517758Z",
     "iopub.status.idle": "2025-05-09T20:28:16.530624Z",
     "shell.execute_reply": "2025-05-09T20:28:16.530341Z"
    }
   },
   "outputs": [
    {
     "data": {
      "text/html": [
       "<div>\n",
       "<style scoped>\n",
       "    .dataframe tbody tr th:only-of-type {\n",
       "        vertical-align: middle;\n",
       "    }\n",
       "\n",
       "    .dataframe tbody tr th {\n",
       "        vertical-align: top;\n",
       "    }\n",
       "\n",
       "    .dataframe thead th {\n",
       "        text-align: right;\n",
       "    }\n",
       "</style>\n",
       "<table border=\"1\" class=\"dataframe\">\n",
       "  <thead>\n",
       "    <tr style=\"text-align: right;\">\n",
       "      <th></th>\n",
       "      <th>location</th>\n",
       "      <th>group</th>\n",
       "      <th>group_name</th>\n",
       "      <th>probe_vertical_position</th>\n",
       "      <th>probe_horizontal_position</th>\n",
       "      <th>probe_id</th>\n",
       "      <th>local_index</th>\n",
       "      <th>valid_data</th>\n",
       "      <th>x</th>\n",
       "      <th>y</th>\n",
       "      <th>z</th>\n",
       "      <th>imp</th>\n",
       "      <th>filtering</th>\n",
       "    </tr>\n",
       "    <tr>\n",
       "      <th>id</th>\n",
       "      <th></th>\n",
       "      <th></th>\n",
       "      <th></th>\n",
       "      <th></th>\n",
       "      <th></th>\n",
       "      <th></th>\n",
       "      <th></th>\n",
       "      <th></th>\n",
       "      <th></th>\n",
       "      <th></th>\n",
       "      <th></th>\n",
       "      <th></th>\n",
       "      <th></th>\n",
       "    </tr>\n",
       "  </thead>\n",
       "  <tbody>\n",
       "    <tr>\n",
       "      <th>2</th>\n",
       "      <td>APN</td>\n",
       "      <td>probeA abc.EcephysElectrodeGroup at 0x13400359...</td>\n",
       "      <td>probeA</td>\n",
       "      <td>40</td>\n",
       "      <td>59</td>\n",
       "      <td>0</td>\n",
       "      <td>2</td>\n",
       "      <td>True</td>\n",
       "      <td>8064.0</td>\n",
       "      <td>3068.0</td>\n",
       "      <td>7299.0</td>\n",
       "      <td>NaN</td>\n",
       "      <td>AP band: 500 Hz high-pass; LFP band: 1000 Hz l...</td>\n",
       "    </tr>\n",
       "    <tr>\n",
       "      <th>6</th>\n",
       "      <td>APN</td>\n",
       "      <td>probeA abc.EcephysElectrodeGroup at 0x13400359...</td>\n",
       "      <td>probeA</td>\n",
       "      <td>80</td>\n",
       "      <td>59</td>\n",
       "      <td>0</td>\n",
       "      <td>6</td>\n",
       "      <td>True</td>\n",
       "      <td>8056.0</td>\n",
       "      <td>3032.0</td>\n",
       "      <td>7305.0</td>\n",
       "      <td>NaN</td>\n",
       "      <td>AP band: 500 Hz high-pass; LFP band: 1000 Hz l...</td>\n",
       "    </tr>\n",
       "    <tr>\n",
       "      <th>10</th>\n",
       "      <td>APN</td>\n",
       "      <td>probeA abc.EcephysElectrodeGroup at 0x13400359...</td>\n",
       "      <td>probeA</td>\n",
       "      <td>120</td>\n",
       "      <td>59</td>\n",
       "      <td>0</td>\n",
       "      <td>10</td>\n",
       "      <td>True</td>\n",
       "      <td>8049.0</td>\n",
       "      <td>2996.0</td>\n",
       "      <td>7312.0</td>\n",
       "      <td>NaN</td>\n",
       "      <td>AP band: 500 Hz high-pass; LFP band: 1000 Hz l...</td>\n",
       "    </tr>\n",
       "    <tr>\n",
       "      <th>14</th>\n",
       "      <td>APN</td>\n",
       "      <td>probeA abc.EcephysElectrodeGroup at 0x13400359...</td>\n",
       "      <td>probeA</td>\n",
       "      <td>160</td>\n",
       "      <td>59</td>\n",
       "      <td>0</td>\n",
       "      <td>14</td>\n",
       "      <td>True</td>\n",
       "      <td>8040.0</td>\n",
       "      <td>2952.0</td>\n",
       "      <td>7320.0</td>\n",
       "      <td>NaN</td>\n",
       "      <td>AP band: 500 Hz high-pass; LFP band: 1000 Hz l...</td>\n",
       "    </tr>\n",
       "    <tr>\n",
       "      <th>18</th>\n",
       "      <td>APN</td>\n",
       "      <td>probeA abc.EcephysElectrodeGroup at 0x13400359...</td>\n",
       "      <td>probeA</td>\n",
       "      <td>200</td>\n",
       "      <td>59</td>\n",
       "      <td>0</td>\n",
       "      <td>18</td>\n",
       "      <td>True</td>\n",
       "      <td>8032.0</td>\n",
       "      <td>2916.0</td>\n",
       "      <td>7326.0</td>\n",
       "      <td>NaN</td>\n",
       "      <td>AP band: 500 Hz high-pass; LFP band: 1000 Hz l...</td>\n",
       "    </tr>\n",
       "    <tr>\n",
       "      <th>22</th>\n",
       "      <td>LP</td>\n",
       "      <td>probeA abc.EcephysElectrodeGroup at 0x13400359...</td>\n",
       "      <td>probeA</td>\n",
       "      <td>240</td>\n",
       "      <td>59</td>\n",
       "      <td>0</td>\n",
       "      <td>22</td>\n",
       "      <td>True</td>\n",
       "      <td>8025.0</td>\n",
       "      <td>2881.0</td>\n",
       "      <td>7332.0</td>\n",
       "      <td>NaN</td>\n",
       "      <td>AP band: 500 Hz high-pass; LFP band: 1000 Hz l...</td>\n",
       "    </tr>\n",
       "    <tr>\n",
       "      <th>26</th>\n",
       "      <td>LP</td>\n",
       "      <td>probeA abc.EcephysElectrodeGroup at 0x13400359...</td>\n",
       "      <td>probeA</td>\n",
       "      <td>280</td>\n",
       "      <td>59</td>\n",
       "      <td>0</td>\n",
       "      <td>26</td>\n",
       "      <td>True</td>\n",
       "      <td>8018.0</td>\n",
       "      <td>2847.0</td>\n",
       "      <td>7338.0</td>\n",
       "      <td>NaN</td>\n",
       "      <td>AP band: 500 Hz high-pass; LFP band: 1000 Hz l...</td>\n",
       "    </tr>\n",
       "  </tbody>\n",
       "</table>\n",
       "</div>"
      ],
      "text/plain": [
       "   location                                              group group_name  \\\n",
       "id                                                                          \n",
       "2       APN  probeA abc.EcephysElectrodeGroup at 0x13400359...     probeA   \n",
       "6       APN  probeA abc.EcephysElectrodeGroup at 0x13400359...     probeA   \n",
       "10      APN  probeA abc.EcephysElectrodeGroup at 0x13400359...     probeA   \n",
       "14      APN  probeA abc.EcephysElectrodeGroup at 0x13400359...     probeA   \n",
       "18      APN  probeA abc.EcephysElectrodeGroup at 0x13400359...     probeA   \n",
       "22       LP  probeA abc.EcephysElectrodeGroup at 0x13400359...     probeA   \n",
       "26       LP  probeA abc.EcephysElectrodeGroup at 0x13400359...     probeA   \n",
       "\n",
       "    probe_vertical_position  probe_horizontal_position  probe_id  local_index  \\\n",
       "id                                                                              \n",
       "2                        40                         59         0            2   \n",
       "6                        80                         59         0            6   \n",
       "10                      120                         59         0           10   \n",
       "14                      160                         59         0           14   \n",
       "18                      200                         59         0           18   \n",
       "22                      240                         59         0           22   \n",
       "26                      280                         59         0           26   \n",
       "\n",
       "    valid_data       x       y       z  imp  \\\n",
       "id                                            \n",
       "2         True  8064.0  3068.0  7299.0  NaN   \n",
       "6         True  8056.0  3032.0  7305.0  NaN   \n",
       "10        True  8049.0  2996.0  7312.0  NaN   \n",
       "14        True  8040.0  2952.0  7320.0  NaN   \n",
       "18        True  8032.0  2916.0  7326.0  NaN   \n",
       "22        True  8025.0  2881.0  7332.0  NaN   \n",
       "26        True  8018.0  2847.0  7338.0  NaN   \n",
       "\n",
       "                                            filtering  \n",
       "id                                                     \n",
       "2   AP band: 500 Hz high-pass; LFP band: 1000 Hz l...  \n",
       "6   AP band: 500 Hz high-pass; LFP band: 1000 Hz l...  \n",
       "10  AP band: 500 Hz high-pass; LFP band: 1000 Hz l...  \n",
       "14  AP band: 500 Hz high-pass; LFP band: 1000 Hz l...  \n",
       "18  AP band: 500 Hz high-pass; LFP band: 1000 Hz l...  \n",
       "22  AP band: 500 Hz high-pass; LFP band: 1000 Hz l...  \n",
       "26  AP band: 500 Hz high-pass; LFP band: 1000 Hz l...  "
      ]
     },
     "metadata": {},
     "output_type": "display_data"
    },
    {
     "name": "stdout",
     "output_type": "stream",
     "text": [
      "Columns in electrode table: ['location', 'group', 'group_name', 'probe_vertical_position', 'probe_horizontal_position', 'probe_id', 'local_index', 'valid_data', 'x', 'y', 'z', 'imp', 'filtering']\n"
     ]
    }
   ],
   "source": [
    "# Electrode metadata as pandas DataFrame (first 7 rows)\n",
    "electrodes_table = nwb.electrodes.to_dataframe()\n",
    "display(electrodes_table.head(7))\n",
    "\n",
    "# Inspect what columns are present\n",
    "print(\"Columns in electrode table:\", electrodes_table.columns.tolist())"
   ]
  },
  {
   "cell_type": "markdown",
   "id": "cbbb77be",
   "metadata": {},
   "source": [
    "---\n",
    "## 5. Explore LFP Data Shape and Preview"
   ]
  },
  {
   "cell_type": "code",
   "execution_count": 6,
   "id": "cb1df94b",
   "metadata": {
    "execution": {
     "iopub.execute_input": "2025-05-09T20:28:16.531746Z",
     "iopub.status.busy": "2025-05-09T20:28:16.531653Z",
     "iopub.status.idle": "2025-05-09T20:28:16.533897Z",
     "shell.execute_reply": "2025-05-09T20:28:16.533590Z"
    }
   },
   "outputs": [
    {
     "name": "stdout",
     "output_type": "stream",
     "text": [
      "LFP data shape (time, channels): (10168076, 73)\n",
      "LFP channel unit: volts\n",
      "Timestamps unit: seconds\n"
     ]
    }
   ],
   "source": [
    "probe_0_lfp = nwb.acquisition[\"probe_0_lfp\"]\n",
    "electrical_series = probe_0_lfp.electrical_series[\"probe_0_lfp_data\"]\n",
    "\n",
    "# LFP data shape: timepoints × electrodes\n",
    "data_shape = electrical_series.data.shape\n",
    "print(\"LFP data shape (time, channels):\", data_shape)\n",
    "print(\"LFP channel unit:\", electrical_series.unit)\n",
    "print(\"Timestamps unit:\", electrical_series.timestamps_unit)"
   ]
  },
  {
   "cell_type": "markdown",
   "id": "48efd4a9",
   "metadata": {},
   "source": [
    "---\n",
    "## 6. Visualize LFP from a Subset of Channels\n",
    "\n",
    "To avoid streaming too much data, let’s plot ~2 seconds for a few channels."
   ]
  },
  {
   "cell_type": "code",
   "execution_count": 7,
   "id": "2a69cf68",
   "metadata": {
    "execution": {
     "iopub.execute_input": "2025-05-09T20:28:16.535295Z",
     "iopub.status.busy": "2025-05-09T20:28:16.535149Z",
     "iopub.status.idle": "2025-05-09T20:28:17.697567Z",
     "shell.execute_reply": "2025-05-09T20:28:17.697288Z"
    }
   },
   "outputs": [
    {
     "data": {
      "image/png": "[encoded data removed]",
      "text/plain": [
       "<Figure size 1200x600 with 1 Axes>"
      ]
     },
     "metadata": {},
     "output_type": "display_data"
    }
   ],
   "source": [
    "# How many time points correspond to 2 seconds?\n",
    "n_seconds = 2\n",
    "sampling_rate = 625  # Hz, from probeA.lfp_sampling_rate\n",
    "n_samples = n_seconds * sampling_rate\n",
    "n_channels = min(5, data_shape[1])\n",
    "\n",
    "data_subset = electrical_series.data[:n_samples, :n_channels]  # shape: (samples, channels)\n",
    "timestamps_subset = electrical_series.timestamps[:n_samples]\n",
    "\n",
    "plt.figure(figsize=(12, 6))\n",
    "for i in range(n_channels):\n",
    "    plt.plot(timestamps_subset, data_subset[:, i] * 1e3 + i*400, label=f'Channel {i}')\n",
    "plt.xlabel(f'Time ({electrical_series.timestamps_unit})')\n",
    "plt.ylabel('LFP (mV, offset per channel)')\n",
    "plt.title('LFP: First 2 seconds, 5 channels')\n",
    "plt.legend()\n",
    "plt.tight_layout()\n",
    "plt.show()"
   ]
  },
  {
   "cell_type": "markdown",
   "id": "6608872e",
   "metadata": {},
   "source": [
    "---\n",
    "## 7. Advanced: Electrode Location Mapping\n",
    "\n",
    "Let's see how channels distribute by their assigned reported brain region:"
   ]
  },
  {
   "cell_type": "code",
   "execution_count": 8,
   "id": "78e180bc",
   "metadata": {
    "execution": {
     "iopub.execute_input": "2025-05-09T20:28:17.698564Z",
     "iopub.status.busy": "2025-05-09T20:28:17.698458Z",
     "iopub.status.idle": "2025-05-09T20:28:17.779704Z",
     "shell.execute_reply": "2025-05-09T20:28:17.779400Z"
    }
   },
   "outputs": [
    {
     "data": {
      "image/png": "[encoded data removed]",
      "text/plain": [
       "<Figure size 1200x500 with 1 Axes>"
      ]
     },
     "metadata": {},
     "output_type": "display_data"
    }
   ],
   "source": [
    "# Value counts of locations\n",
    "if \"location\" in electrodes_table.columns:\n",
    "    location_counts = electrodes_table[\"location\"].value_counts()\n",
    "    location_counts.plot(kind='bar')\n",
    "    plt.ylabel(\"Number of electrodes\")\n",
    "    plt.title(\"Electrodes by brain region ('location')\")\n",
    "    plt.show()\n",
    "else:\n",
    "    print(\"No 'location' column found in electrode table.\")"
   ]
  },
  {
   "cell_type": "markdown",
   "id": "5381bd87",
   "metadata": {},
   "source": [
    "---\n",
    "## 8. Neurosift Exploration\n",
    "\n",
    "You can browse this NWB file interactively on [Neurosift](https://neurosift.app/nwb?url=https://api.dandiarchive.org/api/assets/1f158fe0-f8ef-495e-b031-da25316a335c/download/&dandisetId=000563&dandisetVersion=draft).\n",
    "\n",
    "Neurosift provides a web interface to visualize and inspect various aspects of NWB files."
   ]
  },
  {
   "cell_type": "markdown",
   "id": "02e81e3a",
   "metadata": {},
   "source": [
    "---\n",
    "## 9. Summary and Future Directions\n",
    "\n",
    "This notebook demonstrated how to:\n",
    "- Discover and inspect assets in a Dandiset via the DANDI API\n",
    "- Load NWB files remotely using PyNWB and remfile\n",
    "- Summarize and visualize LFP recording channels and electrode metadata\n",
    "\n",
    "Possible next steps for analysis:\n",
    "- Explore additional NWB files from the Dandiset (different sessions, probes, or types)\n",
    "- Analyze spike data or other modalities present (if available)\n",
    "- Compare responses across brain regions or experimental conditions\n",
    "- Develop advanced visualizations, e.g., cross-channel correlations, time-frequency analyses\n",
    "\n",
    "_Remember: This is a large, rich dataset—explore with care and patience!_"
   ]
  }
 ],
 "metadata": {
  "jupytext": {
   "cell_metadata_filter": "-all",
   "main_language": "python",
   "notebook_metadata_filter": "-all"
  },
  "language_info": {
   "codemirror_mode": {
    "name": "ipython",
    "version": 3
   },
   "file_extension": ".py",
   "mimetype": "text/x-python",
   "name": "python",
   "nbconvert_exporter": "python",
   "pygments_lexer": "ipython3",
   "version": "3.12.2"
  }
 },
 "nbformat": 4,
 "nbformat_minor": 5
}
